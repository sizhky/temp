{
  "nbformat": 4,
  "nbformat_minor": 0,
  "metadata": {
    "colab": {
      "name": "fastai-doubt.ipynb",
      "provenance": [],
      "collapsed_sections": [],
      "authorship_tag": "ABX9TyMOnM0jfRdy0rVG1mUbha3s",
      "include_colab_link": true
    },
    "kernelspec": {
      "name": "python3",
      "display_name": "Python 3"
    },
    "language_info": {
      "name": "python"
    }
  },
  "cells": [
    {
      "cell_type": "markdown",
      "metadata": {
        "id": "view-in-github",
        "colab_type": "text"
      },
      "source": [
        "<a href=\"https://colab.research.google.com/github/sizhky/temp/blob/main/fastai_doubt.ipynb\" target=\"_parent\"><img src=\"https://colab.research.google.com/assets/colab-badge.svg\" alt=\"Open In Colab\"/></a>"
      ]
    },
    {
      "cell_type": "code",
      "metadata": {
        "id": "GDUCNG0S3y3o"
      },
      "source": [
        "%%capture\n",
        "!pip install -U fastai torch-snippets\n",
        "%load_ext autoreload\n",
        "%autoreload 2\n",
        "from torch_snippets import *\n",
        "import torch_snippets as ts\n",
        "if not os.path.exists('synthetic-data'):\n",
        "    !wget https://www.dropbox.com/s/l2ul3upj7dkv4ou/synthetic-data.zip\n",
        "    !unzip -qq synthetic-data.zip\n",
        "\n",
        "pytorch_ocr_link = 'https://github.com/PacktPublishing/Modern-Computer-Vision-with-PyTorch/blob/master/Chapter15/Handwriting_transcription.ipynb'"
      ],
      "execution_count": null,
      "outputs": []
    },
    {
      "cell_type": "code",
      "metadata": {
        "id": "XFehnNWG3qpk"
      },
      "source": [
        "from fastai.vision.all import *\n",
        "import torch_snippets as ts\n",
        "# and other fastai imports\n",
        "\n",
        "class MyTfm(Transform):\n",
        "    def __init__(self, **kwargs):\n",
        "        super().__init__()\n",
        "\n",
        "    def encodes(self, x:Path) -> TensorImage:\n",
        "        x = Image.open(x)\n",
        "        x = 1 - np.array(x)/255.\n",
        "        x = resize(x, ('at-most', (32,128)))\n",
        "        x = pad(x, (32,128), pad_value=0)\n",
        "        return x # this is a numpy array of shape (32, 128)\n",
        "\n",
        "    def decodes(self, x:TensorImage) -> str:\n",
        "        return 'abcd'\n",
        "\n",
        "def MyTfmBlock(): return TransformBlock([MyTfm()])\n",
        "\n",
        "dblock = DataBlock(\n",
        "    blocks=(MyTfmBlock),\n",
        "    get_items=get_image_files,\n",
        "    get_x=lambda x: x,\n",
        "    splitter=RandomSplitter(seed=10),\n",
        ")\n",
        "\n",
        "root = Path('synthetic-data')\n",
        "dls = dblock.dataloaders(root, bs=4)\n",
        "b = dls.one_batch()"
      ],
      "execution_count": null,
      "outputs": []
    },
    {
      "cell_type": "markdown",
      "metadata": {
        "id": "Pb0-1r1D4OVc"
      },
      "source": [
        "Encoding works fine..."
      ]
    },
    {
      "cell_type": "code",
      "metadata": {
        "colab": {
          "base_uri": "https://localhost:8080/"
        },
        "id": "OMy8LrsX4B-M",
        "outputId": "4a93ac32-74a4-4221-f44e-bf4d3dfb8a68"
      },
      "source": [
        "ts.inspect(*b)"
      ],
      "execution_count": null,
      "outputs": [
        {
          "output_type": "stream",
          "text": [
            "==================================================================\n",
            "TensorImage\tShape: torch.Size([4, 32, 128])\tMin: 0.000\tMax: 1.000\tMean: 0.215\tdtype: torch.float32\n",
            "==================================================================\n"
          ],
          "name": "stdout"
        }
      ]
    },
    {
      "cell_type": "markdown",
      "metadata": {
        "id": "NTBaL6RE4QPQ"
      },
      "source": [
        "But decoding doesn't... Shouldn't the output be `['abcd', 'abcd', 'abcd', 'abcd']` ?"
      ]
    },
    {
      "cell_type": "code",
      "metadata": {
        "colab": {
          "base_uri": "https://localhost:8080/"
        },
        "id": "kpqeG5EP4Gl8",
        "outputId": "b1102dbf-3b28-483f-efc4-b42ad2e0f688"
      },
      "source": [
        "ts.inspect(*dls.decode(b))"
      ],
      "execution_count": null,
      "outputs": [
        {
          "output_type": "stream",
          "text": [
            "==================================================================\n",
            "TensorImage\tShape: torch.Size([4, 32, 128])\tMin: 0.000\tMax: 1.000\tMean: 0.215\tdtype: torch.float32\n",
            "==================================================================\n"
          ],
          "name": "stdout"
        }
      ]
    },
    {
      "cell_type": "code",
      "metadata": {
        "id": "yyHXtQbD4I9y",
        "colab": {
          "base_uri": "https://localhost:8080/"
        },
        "outputId": "4af60f77-09a7-4560-feec-c1b0080657c5"
      },
      "source": [
        "dls.decodes"
      ],
      "execution_count": null,
      "outputs": [
        {
          "output_type": "execute_result",
          "data": {
            "text/plain": [
              "(#2) [,(TensorImage,object) -> decodes\n",
              "]"
            ]
          },
          "metadata": {
            "tags": []
          },
          "execution_count": 11
        }
      ]
    },
    {
      "cell_type": "code",
      "metadata": {
        "id": "RsSGiHuODsD3"
      },
      "source": [
        "??dls.decode"
      ],
      "execution_count": null,
      "outputs": []
    },
    {
      "cell_type": "code",
      "metadata": {
        "id": "NxUQgnZ2GA7O"
      },
      "source": [
        "dls.after_batch??"
      ],
      "execution_count": null,
      "outputs": []
    },
    {
      "cell_type": "code",
      "metadata": {
        "colab": {
          "base_uri": "https://localhost:8080/"
        },
        "id": "q6G0E5vBHHBw",
        "outputId": "6ddde96e-f6ba-4e57-9efc-6e3a9a17486e"
      },
      "source": [
        "dls.after_batch.fs"
      ],
      "execution_count": null,
      "outputs": [
        {
          "output_type": "execute_result",
          "data": {
            "text/plain": [
              "(#0) []"
            ]
          },
          "metadata": {
            "tags": []
          },
          "execution_count": 19
        }
      ]
    },
    {
      "cell_type": "code",
      "metadata": {
        "id": "94CRUkT9Erot"
      },
      "source": [
        "??dls._retain_dl"
      ],
      "execution_count": null,
      "outputs": []
    },
    {
      "cell_type": "code",
      "metadata": {
        "colab": {
          "base_uri": "https://localhost:8080/"
        },
        "id": "jG-kYhGhFE85",
        "outputId": "8b277af0-d3d1-4b72-9796-7861da9fb922"
      },
      "source": [
        "dls._retain_dl(b)"
      ],
      "execution_count": null,
      "outputs": [
        {
          "output_type": "execute_result",
          "data": {
            "text/plain": [
              "(TensorImage([[[0., 0., 0.,  ..., 0., 0., 0.],\n",
              "          [0., 0., 0.,  ..., 1., 0., 0.],\n",
              "          [0., 0., 0.,  ..., 1., 0., 0.],\n",
              "          ...,\n",
              "          [0., 0., 0.,  ..., 0., 0., 0.],\n",
              "          [0., 0., 0.,  ..., 0., 0., 0.],\n",
              "          [0., 0., 0.,  ..., 0., 0., 0.]],\n",
              " \n",
              "         [[0., 0., 0.,  ..., 0., 0., 0.],\n",
              "          [0., 0., 0.,  ..., 0., 0., 0.],\n",
              "          [0., 0., 0.,  ..., 0., 0., 0.],\n",
              "          ...,\n",
              "          [0., 0., 0.,  ..., 0., 0., 0.],\n",
              "          [0., 0., 0.,  ..., 0., 0., 0.],\n",
              "          [0., 0., 0.,  ..., 0., 0., 0.]],\n",
              " \n",
              "         [[0., 0., 0.,  ..., 0., 0., 0.],\n",
              "          [0., 0., 0.,  ..., 0., 0., 0.],\n",
              "          [0., 0., 0.,  ..., 0., 0., 0.],\n",
              "          ...,\n",
              "          [0., 0., 0.,  ..., 0., 0., 0.],\n",
              "          [0., 0., 0.,  ..., 0., 0., 0.],\n",
              "          [0., 0., 0.,  ..., 0., 0., 0.]],\n",
              " \n",
              "         [[0., 0., 0.,  ..., 0., 0., 0.],\n",
              "          [0., 0., 0.,  ..., 0., 0., 0.],\n",
              "          [0., 0., 0.,  ..., 0., 0., 0.],\n",
              "          ...,\n",
              "          [0., 0., 0.,  ..., 0., 0., 0.],\n",
              "          [0., 0., 0.,  ..., 0., 0., 0.],\n",
              "          [0., 0., 0.,  ..., 0., 0., 0.]]]),)"
            ]
          },
          "metadata": {
            "tags": []
          },
          "execution_count": 15
        }
      ]
    },
    {
      "cell_type": "code",
      "metadata": {
        "id": "5EIF8F9HFBCP"
      },
      "source": [
        "??retain_types"
      ],
      "execution_count": null,
      "outputs": []
    }
  ]
}